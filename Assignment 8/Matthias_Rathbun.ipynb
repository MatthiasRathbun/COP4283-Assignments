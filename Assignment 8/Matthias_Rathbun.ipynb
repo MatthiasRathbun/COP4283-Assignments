{
 "cells": [
  {
   "cell_type": "code",
   "execution_count": 1,
   "id": "5855453a-e618-4465-9cca-8f7793ddf927",
   "metadata": {},
   "outputs": [],
   "source": [
    "from bs4 import BeautifulSoup\n",
    "import requests\n",
    "import re\n",
    "import pandas as pd\n",
    "from imdb import Cinemagoer"
   ]
  },
  {
   "cell_type": "code",
   "execution_count": 2,
   "id": "e7d4a47f-cf5e-49b0-a889-b2a79e0f996b",
   "metadata": {},
   "outputs": [],
   "source": [
    "url = 'https://www.imdb.com/list/ls000096828/'\n",
    "response = requests.get(url)\n",
    "soup = BeautifulSoup(response.text, 'lxml')"
   ]
  },
  {
   "cell_type": "code",
   "execution_count": 3,
   "id": "a1ea813a-7e57-4063-b710-155d134e997b",
   "metadata": {},
   "outputs": [],
   "source": [
    "s = soup.find('script', type='application/ld+json')"
   ]
  },
  {
   "cell_type": "code",
   "execution_count": 4,
   "id": "ace061e9-9a1d-4f32-81d3-d6b391165a60",
   "metadata": {},
   "outputs": [],
   "source": [
    "temp = pd.DataFrame(data = json.loads(s.text)[\"about\"][\"itemListElement\"])"
   ]
  },
  {
   "cell_type": "code",
   "execution_count": 5,
   "id": "d936c979-1a8b-4f2c-9445-e713427e3191",
   "metadata": {},
   "outputs": [],
   "source": [
    "rank = []\n",
    "name = []\n",
    "year = []\n",
    "rating = []"
   ]
  },
  {
   "cell_type": "code",
   "execution_count": 6,
   "id": "56b3b938-180d-4e12-8bda-acf4b420bcd0",
   "metadata": {},
   "outputs": [],
   "source": [
    "ia = Cinemagoer()"
   ]
  },
  {
   "cell_type": "code",
   "execution_count": 7,
   "id": "61f6b14e-a481-42be-abfd-12460853ba08",
   "metadata": {},
   "outputs": [],
   "source": [
    "i = 1\n",
    "for movie in temp[\"url\"]:\n",
    "    num = str(re.findall('\\d+', movie)[0])\n",
    "    mv = ia.get_movie(num)\n",
    "    rank.append(i)\n",
    "    name.append(mv[\"localized title\"])\n",
    "    year.append(mv[\"year\"])\n",
    "    rating.append(mv[\"rating\"])\n",
    "    i += 1"
   ]
  },
  {
   "cell_type": "code",
   "execution_count": 8,
   "id": "6a4574af-929e-46fb-8f54-8d0c53efbda0",
   "metadata": {},
   "outputs": [],
   "source": [
    "df = pd.DataFrame(data = {\"rank\": rank, \"name\": name, \"year\": year, \"rating\": rating})"
   ]
  },
  {
   "cell_type": "code",
   "execution_count": 9,
   "id": "e94fde59-1a61-496a-9ce4-735878a21325",
   "metadata": {},
   "outputs": [],
   "source": [
    "df.to_csv(\"parsed_ranking.csv\", index = False)"
   ]
  }
 ],
 "metadata": {
  "kernelspec": {
   "display_name": "Python 3 (ipykernel)",
   "language": "python",
   "name": "python3"
  },
  "language_info": {
   "codemirror_mode": {
    "name": "ipython",
    "version": 3
   },
   "file_extension": ".py",
   "mimetype": "text/x-python",
   "name": "python",
   "nbconvert_exporter": "python",
   "pygments_lexer": "ipython3",
   "version": "3.9.7"
  }
 },
 "nbformat": 4,
 "nbformat_minor": 5
}
