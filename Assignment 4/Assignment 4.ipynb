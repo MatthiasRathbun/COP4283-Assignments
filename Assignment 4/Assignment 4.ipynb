{
 "cells": [
  {
   "cell_type": "code",
   "execution_count": null,
   "id": "099549e9-264a-4c17-afd8-d15b767acc00",
   "metadata": {},
   "outputs": [],
   "source": [
    "df <-read.csv(\"tiktok.csv\", header=TRUE)"
   ]
  },
  {
   "cell_type": "code",
   "execution_count": null,
   "id": "3ec1e977-332c-4008-ab38-7fae90987a5d",
   "metadata": {},
   "outputs": [],
   "source": [
    "library(stringr)\n",
    "df$Subscribers <- as.numeric(str_replace_all(df$Subscribers, setNames(c(\"e3\", \"e6\"), c(\"K\", \"M\"))))\n",
    "df$Views.avg. <- as.numeric(str_replace_all(df$Views.avg., setNames(c(\"e3\", \"e6\"), c(\"K\", \"M\"))))\n",
    "df$Likes.avg. <- as.numeric(str_replace_all(df$Likes.avg., setNames(c(\"e3\", \"e6\"), c(\"K\", \"M\"))))\n",
    "df$Comments.avg. <- as.numeric(str_replace_all(df$Comments.avg., setNames(c(\"e3\", \"e6\"), c(\"K\", \"M\"))))\n",
    "df$Shares.avg. <- as.numeric(str_replace_all(df$Shares.avg., setNames(c(\"e3\", \"e6\"), c(\"K\", \"M\"))))\n"
   ]
  },
  {
   "cell_type": "code",
   "execution_count": null,
   "id": "72b65934-6e18-4b26-becf-81f3dd8e7394",
   "metadata": {},
   "outputs": [],
   "source": [
    "df[4:8]"
   ]
  },
  {
   "cell_type": "code",
   "execution_count": null,
   "id": "83f682e6-82ed-40a9-b460-1a3606fb9728",
   "metadata": {},
   "outputs": [],
   "source": [
    "correlation_matrix <- cor(df[, unlist(lapply(df, is.numeric))])"
   ]
  },
  {
   "cell_type": "code",
   "execution_count": null,
   "id": "15d02c2f-21f3-4597-bb41-a25e4eda600a",
   "metadata": {},
   "outputs": [],
   "source": [
    "library(GGally)"
   ]
  },
  {
   "cell_type": "code",
   "execution_count": null,
   "id": "ac6a0992-327c-4a75-a676-29bb4d82f9e5",
   "metadata": {},
   "outputs": [],
   "source": [
    "ggcorr(df[4:8], label = TRUE, label_round = 3)"
   ]
  },
  {
   "cell_type": "markdown",
   "id": "6e057456-4726-4a36-8f37-34172f35ac43",
   "metadata": {},
   "source": [
    "Views and Likes have the Highest Correlation with Each Other"
   ]
  }
 ],
 "metadata": {
  "kernelspec": {
   "display_name": "R",
   "language": "R",
   "name": "ir"
  },
  "language_info": {
   "codemirror_mode": "r",
   "file_extension": ".r",
   "mimetype": "text/x-r-source",
   "name": "R",
   "pygments_lexer": "r",
   "version": "4.1.3"
  }
 },
 "nbformat": 4,
 "nbformat_minor": 5
}
